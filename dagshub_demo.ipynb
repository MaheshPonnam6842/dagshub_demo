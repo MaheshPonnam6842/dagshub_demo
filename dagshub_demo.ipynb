{
 "cells": [
  {
   "cell_type": "code",
   "execution_count": 1,
   "id": "4bc76b2d-2080-479c-a5fa-d01edc3c4307",
   "metadata": {},
   "outputs": [
    {
     "name": "stderr",
     "output_type": "stream",
     "text": [
      "C:\\Users\\mahim\\anaconda3\\Lib\\site-packages\\xgboost\\core.py:158: UserWarning: [11:51:37] WARNING: C:\\buildkite-agent\\builds\\buildkite-windows-cpu-autoscaling-group-i-08cbc0333d8d4aae1-1\\xgboost\\xgboost-ci-windows\\src\\learner.cc:740: \n",
      "Parameters: { \"use_label_encoder\" } are not used.\n",
      "\n",
      "  warnings.warn(smsg, UserWarning)\n"
     ]
    },
    {
     "name": "stdout",
     "output_type": "stream",
     "text": [
      "\n",
      "🔹 Logistic Regression\n",
      "Confusion Matrix:\n",
      " [[729 168]\n",
      " [ 15  88]]\n",
      "\n",
      "Classification Report:\n",
      "               precision    recall  f1-score   support\n",
      "\n",
      "           0     0.9798    0.8127    0.8885       897\n",
      "           1     0.3438    0.8544    0.4903       103\n",
      "\n",
      "    accuracy                         0.8170      1000\n",
      "   macro avg     0.6618    0.8335    0.6894      1000\n",
      "weighted avg     0.9143    0.8170    0.8475      1000\n",
      "\n",
      "ROC AUC Score: 0.8848\n",
      "\n",
      "🔹 Random Forest\n",
      "Confusion Matrix:\n",
      " [[895   2]\n",
      " [ 54  49]]\n",
      "\n",
      "Classification Report:\n",
      "               precision    recall  f1-score   support\n",
      "\n",
      "           0     0.9431    0.9978    0.9697       897\n",
      "           1     0.9608    0.4757    0.6364       103\n",
      "\n",
      "    accuracy                         0.9440      1000\n",
      "   macro avg     0.9519    0.7367    0.8030      1000\n",
      "weighted avg     0.9449    0.9440    0.9353      1000\n",
      "\n",
      "ROC AUC Score: 0.9590\n",
      "\n",
      "🔹 SVM\n",
      "Confusion Matrix:\n",
      " [[852  45]\n",
      " [ 24  79]]\n",
      "\n",
      "Classification Report:\n",
      "               precision    recall  f1-score   support\n",
      "\n",
      "           0     0.9726    0.9498    0.9611       897\n",
      "           1     0.6371    0.7670    0.6960       103\n",
      "\n",
      "    accuracy                         0.9310      1000\n",
      "   macro avg     0.8048    0.8584    0.8286      1000\n",
      "weighted avg     0.9380    0.9310    0.9338      1000\n",
      "\n",
      "ROC AUC Score: 0.9463\n",
      "\n",
      "🔹 XGBoost\n",
      "Confusion Matrix:\n",
      " [[887  10]\n",
      " [ 33  70]]\n",
      "\n",
      "Classification Report:\n",
      "               precision    recall  f1-score   support\n",
      "\n",
      "           0     0.9641    0.9889    0.9763       897\n",
      "           1     0.8750    0.6796    0.7650       103\n",
      "\n",
      "    accuracy                         0.9570      1000\n",
      "   macro avg     0.9196    0.8342    0.8707      1000\n",
      "weighted avg     0.9550    0.9570    0.9546      1000\n",
      "\n",
      "ROC AUC Score: 0.9528\n"
     ]
    }
   ],
   "source": [
    "from sklearn.datasets import make_classification\n",
    "from sklearn.model_selection import train_test_split\n",
    "from sklearn.preprocessing import StandardScaler\n",
    "from sklearn.linear_model import LogisticRegression\n",
    "from sklearn.ensemble import RandomForestClassifier\n",
    "from sklearn.svm import SVC\n",
    "from sklearn.neighbors import KNeighborsClassifier\n",
    "from sklearn.metrics import classification_report, confusion_matrix, roc_auc_score\n",
    "import xgboost as xgb\n",
    "\n",
    "# 1. Generate imbalanced dataset\n",
    "X, y = make_classification(\n",
    "    n_samples=5000, n_features=20, n_informative=5, n_redundant=2,\n",
    "    weights=[0.9, 0.1], flip_y=0.01, class_sep=1.0, random_state=42\n",
    ")\n",
    "\n",
    "# 2. Train-test split\n",
    "X_train, X_test, y_train, y_test = train_test_split(X, y, stratify=y, test_size=0.2, random_state=42)\n",
    "\n",
    "# 3. Feature scaling\n",
    "scaler = StandardScaler()\n",
    "X_train_scaled = scaler.fit_transform(X_train)\n",
    "X_test_scaled = scaler.transform(X_test)\n",
    "\n",
    "# --- Logistic Regression ---\n",
    "logreg = LogisticRegression(class_weight='balanced', solver='liblinear')\n",
    "logreg.fit(X_train_scaled, y_train)\n",
    "y_pred_logreg = logreg.predict(X_test_scaled)\n",
    "y_proba_logreg = logreg.predict_proba(X_test_scaled)[:, 1]\n",
    "\n",
    "# --- Random Forest ---\n",
    "rf = RandomForestClassifier(class_weight='balanced', n_estimators=100, random_state=42)\n",
    "rf.fit(X_train_scaled, y_train)\n",
    "y_pred_rf = rf.predict(X_test_scaled)\n",
    "y_proba_rf = rf.predict_proba(X_test_scaled)[:, 1]\n",
    "\n",
    "# --- Support Vector Machine ---\n",
    "svm = SVC(probability=True, kernel='rbf', class_weight='balanced')\n",
    "svm.fit(X_train_scaled, y_train)\n",
    "y_pred_svm = svm.predict(X_test_scaled)\n",
    "y_proba_svm = svm.predict_proba(X_test_scaled)[:, 1]\n",
    "\n",
    "\n",
    "\n",
    "# --- XGBoost ---\n",
    "xgb_model = xgb.XGBClassifier(\n",
    "    scale_pos_weight=9,  # 90:10 class ratio\n",
    "    n_estimators=100,\n",
    "    use_label_encoder=False,\n",
    "    eval_metric='logloss',\n",
    "    random_state=42\n",
    ")\n",
    "xgb_model.fit(X_train_scaled, y_train)\n",
    "y_pred_xgb = xgb_model.predict(X_test_scaled)\n",
    "y_proba_xgb = xgb_model.predict_proba(X_test_scaled)[:, 1]\n",
    "\n",
    "# --- Evaluation Function ---\n",
    "def evaluate_model(name, y_test, y_pred, y_proba):\n",
    "    print(f\"\\n🔹 {name}\")\n",
    "    print(\"Confusion Matrix:\\n\", confusion_matrix(y_test, y_pred))\n",
    "    print(\"\\nClassification Report:\\n\", classification_report(y_test, y_pred, digits=4))\n",
    "    print(f\"ROC AUC Score: {roc_auc_score(y_test, y_proba):.4f}\")\n",
    "\n",
    "# --- Evaluate All Models ---\n",
    "evaluate_model(\"Logistic Regression\", y_test, y_pred_logreg, y_proba_logreg)\n",
    "evaluate_model(\"Random Forest\", y_test, y_pred_rf, y_proba_rf)\n",
    "evaluate_model(\"SVM\", y_test, y_pred_svm, y_proba_svm)\n",
    "\n",
    "evaluate_model(\"XGBoost\", y_test, y_pred_xgb, y_proba_xgb)\n"
   ]
  },
  {
   "cell_type": "code",
   "execution_count": 2,
   "id": "3367c385-8da2-4020-a109-ebcf9208bbea",
   "metadata": {},
   "outputs": [],
   "source": [
    "models=[(\n",
    "    'Logistic Regression',\n",
    "    {'class_weight':'balanced', 'solver':'liblinear'},\n",
    "    LogisticRegression(class_weight='balanced', solver='liblinear'),\n",
    "    (X_train_scaled, y_train),\n",
    "     (X_test_scaled,y_test)\n",
    "     \n",
    "    ),\n",
    "    (\n",
    "        ' Random Forest',\n",
    "        {'class_weight':'balanced','n_estimators':100,'random_state':42},\n",
    "         RandomForestClassifier(class_weight='balanced', n_estimators=100, random_state=42),\n",
    "        (X_train_scaled, y_train),\n",
    "          (X_test_scaled,y_test)\n",
    "         ),\n",
    "        (\n",
    "            ' Support Vector Machine',\n",
    "            {'probability':True, 'kernel':'rbf', 'class_weight':'balanced'},\n",
    "            SVC(probability=True, kernel='rbf', class_weight='balanced'),\n",
    "          (X_train_scaled, y_train),\n",
    "          (X_test_scaled,y_test)\n",
    "        ),\n",
    "       (\n",
    "           'XGBoost',\n",
    "            {'scale_pos_weight':9,  'n_estimators':100,'use_label_encoder':False,'eval_metric':'logloss','random_state':42},\n",
    "          xgb.XGBClassifier(scale_pos_weight=9,n_estimators=100,use_label_encoder=False,eval_metric='logloss',random_state=42),  \n",
    "           (X_train_scaled, y_train),\n",
    "          (X_test_scaled,y_test)\n",
    "           )\n",
    "\n",
    "]"
   ]
  },
  {
   "cell_type": "code",
   "execution_count": 3,
   "id": "8f0fb749-78c9-4ac1-96c4-2b830568ec17",
   "metadata": {},
   "outputs": [
    {
     "name": "stderr",
     "output_type": "stream",
     "text": [
      "C:\\Users\\mahim\\anaconda3\\Lib\\site-packages\\xgboost\\core.py:158: UserWarning: [11:51:50] WARNING: C:\\buildkite-agent\\builds\\buildkite-windows-cpu-autoscaling-group-i-08cbc0333d8d4aae1-1\\xgboost\\xgboost-ci-windows\\src\\learner.cc:740: \n",
      "Parameters: { \"use_label_encoder\" } are not used.\n",
      "\n",
      "  warnings.warn(smsg, UserWarning)\n"
     ]
    },
    {
     "name": "stdout",
     "output_type": "stream",
     "text": [
      "[{'0': {'precision': 0.9798387096774194, 'recall': 0.8127090301003345, 'f1-score': 0.8884826325411335, 'support': 897.0}, '1': {'precision': 0.34375, 'recall': 0.8543689320388349, 'f1-score': 0.49025069637883006, 'support': 103.0}, 'accuracy': 0.817, 'macro avg': {'precision': 0.6617943548387097, 'recall': 0.8335389810695847, 'f1-score': 0.6893666644599817, 'support': 1000.0}, 'weighted avg': {'precision': 0.9143215725806452, 'recall': 0.817, 'f1-score': 0.8474647431164162, 'support': 1000.0}}, {'0': {'precision': 0.9430979978925185, 'recall': 0.9977703455964325, 'f1-score': 0.9696641386782232, 'support': 897.0}, '1': {'precision': 0.9607843137254902, 'recall': 0.47572815533980584, 'f1-score': 0.6363636363636364, 'support': 103.0}, 'accuracy': 0.944, 'macro avg': {'precision': 0.9519411558090043, 'recall': 0.7367492504681192, 'f1-score': 0.8030138875209298, 'support': 1000.0}, 'weighted avg': {'precision': 0.9449196884233146, 'recall': 0.944, 'f1-score': 0.9353341869398207, 'support': 1000.0}}, {'0': {'precision': 0.9726027397260274, 'recall': 0.9498327759197325, 'f1-score': 0.961082910321489, 'support': 897.0}, '1': {'precision': 0.6370967741935484, 'recall': 0.7669902912621359, 'f1-score': 0.6960352422907489, 'support': 103.0}, 'accuracy': 0.931, 'macro avg': {'precision': 0.8048497569597879, 'recall': 0.8584115335909341, 'f1-score': 0.8285590763061189, 'support': 1000.0}, 'weighted avg': {'precision': 0.9380456252761821, 'recall': 0.931, 'f1-score': 0.9337830005143228, 'support': 1000.0}}, {'0': {'precision': 0.9641304347826087, 'recall': 0.9888517279821628, 'f1-score': 0.9763346175013758, 'support': 897.0}, '1': {'precision': 0.875, 'recall': 0.6796116504854369, 'f1-score': 0.7650273224043715, 'support': 103.0}, 'accuracy': 0.957, 'macro avg': {'precision': 0.9195652173913044, 'recall': 0.8342316892337999, 'f1-score': 0.8706809699528737, 'support': 1000.0}, 'weighted avg': {'precision': 0.9549500000000001, 'recall': 0.957, 'f1-score': 0.9545699661063844, 'support': 1000.0}}]\n"
     ]
    }
   ],
   "source": [
    "reports=[]\n",
    "for model_name,params,model,train_set,test_set in models:\n",
    "    X_train=train_set[0]\n",
    "    y_train=train_set[1]\n",
    "    X_test=test_set[0]\n",
    "    y_test=test_set[1]\n",
    "    model.fit(X_train,y_train)\n",
    "    y_pred=model.predict(X_test)\n",
    "    report=classification_report(y_test,y_pred,output_dict=True)\n",
    "    reports.append(report)\n",
    "    \n",
    "    \n",
    "print(reports)\n",
    "\n",
    "\n",
    "    "
   ]
  },
  {
   "cell_type": "code",
   "execution_count": null,
   "id": "6fc69df4-af98-47f5-bd5c-f6d1d42b897e",
   "metadata": {},
   "outputs": [],
   "source": []
  },
  {
   "cell_type": "code",
   "execution_count": 5,
   "id": "c74b6c8c-4bad-485e-9213-3ce453a587bc",
   "metadata": {},
   "outputs": [],
   "source": [
    "import mlflow\n",
    "import mlflow.sklearn\n",
    "import mlflow.xgboost"
   ]
  },
  {
   "cell_type": "code",
   "execution_count": 6,
   "id": "dcbfee29-af00-4e37-96e5-3a5161446753",
   "metadata": {},
   "outputs": [
    {
     "data": {
      "text/plain": [
       "{'0': {'precision': 0.9641304347826087,\n",
       "  'recall': 0.9888517279821628,\n",
       "  'f1-score': 0.9763346175013758,\n",
       "  'support': 897.0},\n",
       " '1': {'precision': 0.875,\n",
       "  'recall': 0.6796116504854369,\n",
       "  'f1-score': 0.7650273224043715,\n",
       "  'support': 103.0},\n",
       " 'accuracy': 0.957,\n",
       " 'macro avg': {'precision': 0.9195652173913044,\n",
       "  'recall': 0.8342316892337999,\n",
       "  'f1-score': 0.8706809699528737,\n",
       "  'support': 1000.0},\n",
       " 'weighted avg': {'precision': 0.9549500000000001,\n",
       "  'recall': 0.957,\n",
       "  'f1-score': 0.9545699661063844,\n",
       "  'support': 1000.0}}"
      ]
     },
     "execution_count": 6,
     "metadata": {},
     "output_type": "execute_result"
    }
   ],
   "source": [
    "report\n"
   ]
  },
  {
   "cell_type": "code",
   "execution_count": 9,
   "id": "350c16be-528b-4681-89e8-98f865b29320",
   "metadata": {},
   "outputs": [
    {
     "name": "stderr",
     "output_type": "stream",
     "text": [
      "2025/04/05 11:52:31 INFO mlflow.tracking.fluent: Experiment with name 'Anamoly' does not exist. Creating a new experiment.\n",
      "2025/04/05 11:52:44 WARNING mlflow.models.model: Model logged without a signature and input example. Please set `input_example` parameter when logging the model to auto infer the model signature.\n"
     ]
    },
    {
     "name": "stdout",
     "output_type": "stream",
     "text": [
      "🏃 View run Logistic Regression at: http://127.0.0.1:5000/#/experiments/500420123018658551/runs/2c601eb74d4e4c6f8840b4ddf2cb3450\n",
      "🧪 View experiment at: http://127.0.0.1:5000/#/experiments/500420123018658551\n"
     ]
    },
    {
     "name": "stderr",
     "output_type": "stream",
     "text": [
      "2025/04/05 11:52:50 WARNING mlflow.models.model: Model logged without a signature and input example. Please set `input_example` parameter when logging the model to auto infer the model signature.\n"
     ]
    },
    {
     "name": "stdout",
     "output_type": "stream",
     "text": [
      "🏃 View run  Random Forest at: http://127.0.0.1:5000/#/experiments/500420123018658551/runs/96dd2c69f9bf4d7d8e07467fce56eee4\n",
      "🧪 View experiment at: http://127.0.0.1:5000/#/experiments/500420123018658551\n"
     ]
    },
    {
     "name": "stderr",
     "output_type": "stream",
     "text": [
      "2025/04/05 11:52:55 WARNING mlflow.models.model: Model logged without a signature and input example. Please set `input_example` parameter when logging the model to auto infer the model signature.\n"
     ]
    },
    {
     "name": "stdout",
     "output_type": "stream",
     "text": [
      "🏃 View run  Support Vector Machine at: http://127.0.0.1:5000/#/experiments/500420123018658551/runs/b22616c25e354511aaa5bada13329b72\n",
      "🧪 View experiment at: http://127.0.0.1:5000/#/experiments/500420123018658551\n"
     ]
    },
    {
     "name": "stderr",
     "output_type": "stream",
     "text": [
      "C:\\Users\\mahim\\anaconda3\\Lib\\site-packages\\xgboost\\core.py:158: UserWarning: [11:52:55] WARNING: C:\\buildkite-agent\\builds\\buildkite-windows-cpu-autoscaling-group-i-08cbc0333d8d4aae1-1\\xgboost\\xgboost-ci-windows\\src\\c_api\\c_api.cc:1374: Saving model in the UBJSON format as default.  You can use file extension: `json`, `ubj` or `deprecated` to choose between formats.\n",
      "  warnings.warn(smsg, UserWarning)\n",
      "2025/04/05 11:53:01 WARNING mlflow.models.model: Model logged without a signature and input example. Please set `input_example` parameter when logging the model to auto infer the model signature.\n"
     ]
    },
    {
     "name": "stdout",
     "output_type": "stream",
     "text": [
      "🏃 View run XGBoost at: http://127.0.0.1:5000/#/experiments/500420123018658551/runs/54579c72f50f453abe3647fe408df1bc\n",
      "🧪 View experiment at: http://127.0.0.1:5000/#/experiments/500420123018658551\n"
     ]
    }
   ],
   "source": [
    "import mlflow\n",
    "import mlflow.sklearn\n",
    "import mlflow.xgboost\n",
    "\n",
    "# Initialize mlflow\n",
    "mlflow.set_tracking_uri('http://127.0.0.1:5000/')\n",
    "mlflow.set_experiment('Anamoly')\n",
    "\n",
    "for i, element in enumerate(models):\n",
    "    model_name = element[0]\n",
    "    params = element[1]\n",
    "    model = element[2]\n",
    "    report = reports[i]\n",
    "\n",
    "    with mlflow.start_run(run_name=model_name):\n",
    "        # Log model name\n",
    "        mlflow.log_param('model', model_name)\n",
    "\n",
    "        # ✅ Log metrics correctly using commas, not equals\n",
    "        mlflow.log_metric('accuracy', report['accuracy'])\n",
    "        mlflow.log_metric('recall_0', report['0']['recall'])\n",
    "        mlflow.log_metric('recall_1', report['1']['recall'])\n",
    "        mlflow.log_metric('precision_0', report['0']['precision'])\n",
    "        mlflow.log_metric('precision_1', report['1']['precision'])\n",
    "        mlflow.log_metric('f1_score_macro', report['macro avg']['f1-score'])\n",
    "\n",
    "        # ✅ Check if model name contains \"xgb\" (case-insensitive)\n",
    "        if \"xgb\" in model_name.lower():\n",
    "            mlflow.xgboost.log_model(model, \"model\")\n",
    "        else:\n",
    "            mlflow.sklearn.log_model(model, \"model\")\n",
    "\n",
    "            \n",
    "\n",
    "        \n",
    "        \n",
    "    \n",
    "\n",
    "\n",
    "    \n",
    "\n",
    "\n",
    "\n"
   ]
  },
  {
   "cell_type": "code",
   "execution_count": null,
   "id": "5bc1b737-42e1-40c1-b502-3c7ddc2be6e2",
   "metadata": {},
   "outputs": [],
   "source": [
    "\n",
    "    \n",
    "    "
   ]
  }
 ],
 "metadata": {
  "kernelspec": {
   "display_name": "Python 3 (ipykernel)",
   "language": "python",
   "name": "python3"
  },
  "language_info": {
   "codemirror_mode": {
    "name": "ipython",
    "version": 3
   },
   "file_extension": ".py",
   "mimetype": "text/x-python",
   "name": "python",
   "nbconvert_exporter": "python",
   "pygments_lexer": "ipython3",
   "version": "3.12.4"
  }
 },
 "nbformat": 4,
 "nbformat_minor": 5
}
